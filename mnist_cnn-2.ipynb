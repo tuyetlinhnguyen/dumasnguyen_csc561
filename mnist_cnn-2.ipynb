{
  "cells": [
    {
      "cell_type": "markdown",
      "metadata": {
        "id": "USSV_OlCFKOD"
      },
      "source": [
        "# MNIST CNN Model\n"
      ]
    },
    {
      "cell_type": "code",
      "execution_count": 1,
      "metadata": {
        "id": "TTBSvHcSLBzc"
      },
      "outputs": [],
      "source": [
        "import numpy as np\n",
        "import tensorflow as tf\n",
        "import tensorflow_datasets as tfds"
      ]
    },
    {
      "cell_type": "code",
      "source": [
        "from tensorflow.keras.models import Sequential\n",
        "from tensorflow.keras.layers import Conv2D, BatchNormalization, Dropout, Dense, Flatten"
      ],
      "metadata": {
        "id": "bs_qQZk2uqiL"
      },
      "execution_count": 2,
      "outputs": []
    },
    {
      "cell_type": "code",
      "source": [
        "NUM_EPOCHS = 10\n",
        "BATCH_SIZE = 256"
      ],
      "metadata": {
        "id": "-ksLhobj4ypr"
      },
      "execution_count": 3,
      "outputs": []
    },
    {
      "cell_type": "markdown",
      "metadata": {
        "id": "c3aH3vP_XLI8"
      },
      "source": [
        "### Load datasets"
      ]
    },
    {
      "cell_type": "code",
      "execution_count": 4,
      "metadata": {
        "id": "ZUMhCXhFXdHQ"
      },
      "outputs": [],
      "source": [
        "train_ds, train_info = tfds.load(\n",
        "    'mnist',\n",
        "    split='train[10%:]',\n",
        "    shuffle_files=True,\n",
        "    as_supervised=True,\n",
        "    with_info=True\n",
        ")"
      ]
    },
    {
      "cell_type": "code",
      "source": [
        "val_ds, val_info = tfds.load(\n",
        "    'mnist',\n",
        "    split='train[0%:10%]',\n",
        "    shuffle_files=True,\n",
        "    as_supervised=True,\n",
        "    with_info=True\n",
        ")"
      ],
      "metadata": {
        "id": "RlVoOpvJ0WFa"
      },
      "execution_count": 5,
      "outputs": []
    },
    {
      "cell_type": "code",
      "source": [
        "test_ds, test_info = tfds.load(\n",
        "    'mnist',\n",
        "    split='test',\n",
        "    shuffle_files=True,\n",
        "    as_supervised=True,\n",
        "    with_info=True\n",
        ")"
      ],
      "metadata": {
        "id": "YvJ1-zbm1shh"
      },
      "execution_count": 6,
      "outputs": []
    },
    {
      "cell_type": "markdown",
      "source": [
        "### Preprocess Data"
      ],
      "metadata": {
        "id": "cx8tOhfVuNdA"
      }
    },
    {
      "cell_type": "code",
      "execution_count": 7,
      "metadata": {
        "id": "haykx2K9XgiI"
      },
      "outputs": [],
      "source": [
        "def normalize_img(image, label):\n",
        "  return tf.cast(image, tf.float32) / 255., label\n",
        "\n",
        "def preprocess_ds(ds):\n",
        "  ds = ds.map(normalize_img, num_parallel_calls=tf.data.AUTOTUNE)\n",
        "  ds = ds.cache()\n",
        "  ds = ds.batch(BATCH_SIZE)\n",
        "  ds = ds.prefetch(tf.data.AUTOTUNE)\n",
        "  return ds"
      ]
    },
    {
      "cell_type": "code",
      "source": [
        "train_ds = preprocess_ds(train_ds)\n",
        "val_ds = preprocess_ds(val_ds)\n",
        "test_ds = preprocess_ds(test_ds)"
      ],
      "metadata": {
        "id": "X2YYpD5R1oHe"
      },
      "execution_count": 8,
      "outputs": []
    },
    {
      "cell_type": "markdown",
      "metadata": {
        "id": "nTFoji3INMEM"
      },
      "source": [
        "## Create and train the model\n"
      ]
    },
    {
      "cell_type": "code",
      "execution_count": 9,
      "metadata": {
        "id": "XWqxdmS1NLKA",
        "colab": {
          "base_uri": "https://localhost:8080/"
        },
        "outputId": "3ea7e9be-fc30-4117-af0f-c1b9b1d90db1"
      },
      "outputs": [
        {
          "output_type": "stream",
          "name": "stdout",
          "text": [
            "Epoch 1/10\n"
          ]
        },
        {
          "output_type": "stream",
          "name": "stderr",
          "text": [
            "/usr/local/lib/python3.10/dist-packages/keras/backend.py:5612: UserWarning: \"`sparse_categorical_crossentropy` received `from_logits=True`, but the `output` argument was produced by a Softmax activation and thus does not represent logits. Was this intended?\n",
            "  output, from_logits = _get_logits(\n"
          ]
        },
        {
          "output_type": "stream",
          "name": "stdout",
          "text": [
            "211/211 [==============================] - 20s 37ms/step - loss: 0.3045 - sparse_categorical_accuracy: 0.9069 - val_loss: 3.8451 - val_sparse_categorical_accuracy: 0.3048\n",
            "Epoch 2/10\n",
            "211/211 [==============================] - 5s 25ms/step - loss: 0.0698 - sparse_categorical_accuracy: 0.9794 - val_loss: 1.0891 - val_sparse_categorical_accuracy: 0.7080\n",
            "Epoch 3/10\n",
            "211/211 [==============================] - 5s 24ms/step - loss: 0.0500 - sparse_categorical_accuracy: 0.9852 - val_loss: 0.0435 - val_sparse_categorical_accuracy: 0.9860\n",
            "Epoch 4/10\n",
            "211/211 [==============================] - 5s 25ms/step - loss: 0.0418 - sparse_categorical_accuracy: 0.9871 - val_loss: 0.0364 - val_sparse_categorical_accuracy: 0.9900\n",
            "Epoch 5/10\n",
            "211/211 [==============================] - 5s 24ms/step - loss: 0.0330 - sparse_categorical_accuracy: 0.9900 - val_loss: 0.0339 - val_sparse_categorical_accuracy: 0.9907\n",
            "Epoch 6/10\n",
            "211/211 [==============================] - 5s 24ms/step - loss: 0.0305 - sparse_categorical_accuracy: 0.9904 - val_loss: 0.0436 - val_sparse_categorical_accuracy: 0.9883\n",
            "Epoch 7/10\n",
            "211/211 [==============================] - 5s 25ms/step - loss: 0.0287 - sparse_categorical_accuracy: 0.9911 - val_loss: 0.0362 - val_sparse_categorical_accuracy: 0.9905\n",
            "Epoch 8/10\n",
            "211/211 [==============================] - 5s 25ms/step - loss: 0.0245 - sparse_categorical_accuracy: 0.9924 - val_loss: 0.0306 - val_sparse_categorical_accuracy: 0.9917\n",
            "Epoch 9/10\n",
            "211/211 [==============================] - 5s 24ms/step - loss: 0.0222 - sparse_categorical_accuracy: 0.9931 - val_loss: 0.0297 - val_sparse_categorical_accuracy: 0.9925\n",
            "Epoch 10/10\n",
            "211/211 [==============================] - 5s 24ms/step - loss: 0.0221 - sparse_categorical_accuracy: 0.9927 - val_loss: 0.0338 - val_sparse_categorical_accuracy: 0.9918\n"
          ]
        }
      ],
      "source": [
        "model = tf.keras.models.Sequential([\n",
        "    Conv2D(32, kernel_size = 3, activation='relu', input_shape = (28, 28, 1)),\n",
        "    BatchNormalization(),\n",
        "\n",
        "    Conv2D(32, kernel_size = 3, activation='relu'),\n",
        "    BatchNormalization(),\n",
        "\n",
        "    Conv2D(32, kernel_size = 5, strides=2, padding='same', activation='relu'),\n",
        "    BatchNormalization(),\n",
        "    Dropout(0.4),\n",
        "\n",
        "    Conv2D(64, kernel_size = 3, activation='relu'),\n",
        "    BatchNormalization(),\n",
        "\n",
        "    Conv2D(64, kernel_size = 3, activation='relu'),\n",
        "    BatchNormalization(),\n",
        "\n",
        "    Conv2D(64, kernel_size = 5, strides=2, padding='same', activation='relu'),\n",
        "    BatchNormalization(),\n",
        "    Dropout(0.4),\n",
        "\n",
        "    Conv2D(128, kernel_size = 4, activation='relu'),\n",
        "    BatchNormalization(),\n",
        "    Flatten(),\n",
        "    Dropout(0.4),\n",
        "    Dense(10, activation='softmax')\n",
        "])\n",
        "\n",
        "model.compile(\n",
        "    optimizer=tf.keras.optimizers.Adam(0.001),\n",
        "    loss=tf.keras.losses.SparseCategoricalCrossentropy(from_logits=True),\n",
        "    metrics=[tf.keras.metrics.SparseCategoricalAccuracy()],\n",
        ")\n",
        "\n",
        "cnn_history = model.fit(\n",
        "    train_ds,\n",
        "    epochs=NUM_EPOCHS,\n",
        "    validation_data=val_ds,\n",
        ")"
      ]
    },
    {
      "cell_type": "code",
      "source": [
        "cnn_history.history"
      ],
      "metadata": {
        "colab": {
          "base_uri": "https://localhost:8080/"
        },
        "id": "DegGr_ZDyNGl",
        "outputId": "4bd73828-c70c-4a42-bf90-fba5323f3d6f"
      },
      "execution_count": 10,
      "outputs": [
        {
          "output_type": "execute_result",
          "data": {
            "text/plain": [
              "{'loss': [0.30451446771621704,\n",
              "  0.06980445235967636,\n",
              "  0.05001801624894142,\n",
              "  0.04184595122933388,\n",
              "  0.03302045166492462,\n",
              "  0.030511081218719482,\n",
              "  0.028691276907920837,\n",
              "  0.024497192353010178,\n",
              "  0.02220303937792778,\n",
              "  0.02206232212483883],\n",
              " 'sparse_categorical_accuracy': [0.9069444537162781,\n",
              "  0.9794444441795349,\n",
              "  0.9851666688919067,\n",
              "  0.987074077129364,\n",
              "  0.9900000095367432,\n",
              "  0.990407407283783,\n",
              "  0.9911481738090515,\n",
              "  0.9923518300056458,\n",
              "  0.9930740594863892,\n",
              "  0.9927407503128052],\n",
              " 'val_loss': [3.8450937271118164,\n",
              "  1.0891399383544922,\n",
              "  0.04353718087077141,\n",
              "  0.03641389310359955,\n",
              "  0.03388475999236107,\n",
              "  0.04362216219305992,\n",
              "  0.03621741756796837,\n",
              "  0.030572012066841125,\n",
              "  0.02968897670507431,\n",
              "  0.033758603036403656],\n",
              " 'val_sparse_categorical_accuracy': [0.304833322763443,\n",
              "  0.7080000042915344,\n",
              "  0.9860000014305115,\n",
              "  0.9900000095367432,\n",
              "  0.9906666874885559,\n",
              "  0.9883333444595337,\n",
              "  0.9904999732971191,\n",
              "  0.9916666746139526,\n",
              "  0.9925000071525574,\n",
              "  0.9918333292007446]}"
            ]
          },
          "metadata": {},
          "execution_count": 10
        }
      ]
    },
    {
      "cell_type": "markdown",
      "source": [
        "### Evaluate Model"
      ],
      "metadata": {
        "id": "U1P4AUe37DvA"
      }
    },
    {
      "cell_type": "code",
      "source": [
        "result = model.evaluate(test_ds)\n",
        "dict(zip(model.metrics_names, result))"
      ],
      "metadata": {
        "colab": {
          "base_uri": "https://localhost:8080/"
        },
        "id": "IZ2SATnx2xXW",
        "outputId": "ace97db4-28bc-4120-e44a-2bdb6127700a"
      },
      "execution_count": 12,
      "outputs": [
        {
          "output_type": "stream",
          "name": "stdout",
          "text": [
            "40/40 [==============================] - 0s 9ms/step - loss: 0.0261 - sparse_categorical_accuracy: 0.9925\n"
          ]
        },
        {
          "output_type": "execute_result",
          "data": {
            "text/plain": [
              "{'loss': 0.02606379985809326,\n",
              " 'sparse_categorical_accuracy': 0.9925000071525574}"
            ]
          },
          "metadata": {},
          "execution_count": 12
        }
      ]
    },
    {
      "cell_type": "code",
      "source": [],
      "metadata": {
        "id": "BQat5fvg3HcR"
      },
      "execution_count": 11,
      "outputs": []
    }
  ],
  "metadata": {
    "colab": {
      "provenance": [],
      "gpuType": "T4"
    },
    "kernelspec": {
      "display_name": "Python 3",
      "name": "python3"
    },
    "accelerator": "GPU",
    "gpuClass": "standard"
  },
  "nbformat": 4,
  "nbformat_minor": 0
}
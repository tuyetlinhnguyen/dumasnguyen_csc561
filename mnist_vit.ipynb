{
  "cells": [
    {
      "cell_type": "markdown",
      "metadata": {
        "id": "sL_6Woiw6v4M"
      },
      "source": [
        "# MNIST Pretrained Vision Transformer (ViT) Model"
      ]
    },
    {
      "cell_type": "code",
      "execution_count": 1,
      "metadata": {
        "colab": {
          "base_uri": "https://localhost:8080/"
        },
        "id": "0gGxI-288bhH",
        "outputId": "a2d72dab-3b3e-4b5d-e654-bc03f96a58eb"
      },
      "outputs": [
        {
          "name": "stdout",
          "output_type": "stream",
          "text": [
            "Looking in indexes: https://pypi.org/simple, https://us-python.pkg.dev/colab-wheels/public/simple/\n",
            "Requirement already satisfied: einops in /usr/local/lib/python3.10/dist-packages (0.6.1)\n"
          ]
        }
      ],
      "source": [
        "!pip3 install einops"
      ]
    },
    {
      "cell_type": "code",
      "execution_count": 1,
      "metadata": {
        "id": "XIEUp3UZ5qrN"
      },
      "outputs": [],
      "source": [
        "import numpy as np\n",
        "import tensorflow as tf\n",
        "import tensorflow_datasets as tfds"
      ]
    },
    {
      "cell_type": "code",
      "execution_count": 2,
      "metadata": {
        "id": "_mwZTH5l8RUb"
      },
      "outputs": [],
      "source": [
        "from tensorflow.keras import Model\n",
        "from tensorflow.keras.models import Sequential\n",
        "from tensorflow.keras.layers import Conv2D, BatchNormalization, Dropout, Dense, Flatten\n",
        "\n",
        "import tensorflow as tf\n",
        "from vit import ViT"
      ]
    },
    {
      "cell_type": "markdown",
      "metadata": {
        "id": "VG_z41Q27u4s"
      },
      "source": [
        "### Global Variables\n",
        "\n"
      ]
    },
    {
      "cell_type": "code",
      "execution_count": 3,
      "metadata": {
        "id": "c5lls76T6c_k"
      },
      "outputs": [],
      "source": [
        "IMAGE_SIZE = 28\n",
        "IMAGE_SHAPE = (IMAGE_SIZE, IMAGE_SIZE, 1)\n",
        "PATCH_SIZE = 4\n",
        "NUM_CLASSES = 10\n",
        "DATASET_SIZE = 10000\n",
        "BATCH_SIZE = DATASET_SIZE"
      ]
    },
    {
      "cell_type": "markdown",
      "metadata": {
        "id": "NxxK8TdD63N_"
      },
      "source": [
        "### Load datasets"
      ]
    },
    {
      "cell_type": "code",
      "execution_count": 4,
      "metadata": {
        "id": "HuruxTZj6pyb"
      },
      "outputs": [],
      "source": [
        "test_ds, test_info = tfds.load(\n",
        "    'mnist',\n",
        "    split='test',\n",
        "    shuffle_files=True,\n",
        "    as_supervised=True,\n",
        "    with_info=True\n",
        ")"
      ]
    },
    {
      "cell_type": "markdown",
      "metadata": {
        "id": "IDoye6fs6795"
      },
      "source": [
        "### Preprocess Data"
      ]
    },
    {
      "cell_type": "code",
      "execution_count": 5,
      "metadata": {
        "id": "mrFWc0Zf6sVH"
      },
      "outputs": [],
      "source": [
        "def normalize_img(image, label):\n",
        "  return tf.cast(image, tf.float32) / 255., label\n",
        "\n",
        "def preprocess_ds(ds):\n",
        "  ds = ds.map(normalize_img, num_parallel_calls=tf.data.AUTOTUNE)\n",
        "  ds = ds.cache()\n",
        "  ds = ds.batch(BATCH_SIZE)\n",
        "  ds = ds.prefetch(tf.data.AUTOTUNE)\n",
        "  return ds"
      ]
    },
    {
      "cell_type": "code",
      "execution_count": 6,
      "metadata": {
        "id": "fIhoQQCcDBBo"
      },
      "outputs": [],
      "source": [
        "test_ds = preprocess_ds(test_ds)"
      ]
    },
    {
      "cell_type": "markdown",
      "metadata": {
        "id": "fYPpQ3qg6-Qx"
      },
      "source": [
        "### Load Pre-trained Model"
      ]
    },
    {
      "cell_type": "code",
      "execution_count": 7,
      "metadata": {
        "id": "z3iA4O4U6_d6"
      },
      "outputs": [],
      "source": [
        "vit = ViT(\n",
        "      image_size = IMAGE_SIZE,\n",
        "      patch_size = PATCH_SIZE,\n",
        "      num_classes = NUM_CLASSES,\n",
        "      dim = 1024,\n",
        "      depth = 6,\n",
        "      heads = 16,\n",
        "      mlp_dim = NUM_CLASSES,\n",
        "      dropout = 0.1,\n",
        "      emb_dropout = 0.1\n",
        "    )"
      ]
    },
    {
      "cell_type": "markdown",
      "metadata": {
        "id": "RRE1Pk-V6_wm"
      },
      "source": [
        "### Evaluate Model\n"
      ]
    },
    {
      "cell_type": "code",
      "execution_count": 8,
      "metadata": {
        "id": "FHlJvzdw7AnE"
      },
      "outputs": [],
      "source": [
        "loss = tf.keras.losses.SparseCategoricalCrossentropy()\n",
        "accuracy = tf.keras.metrics.SparseCategoricalAccuracy()\n",
        "\n",
        "def evaluate_vit(vit, test_ds):\n",
        "  total_loss = 0\n",
        "  total_accuracy = 0\n",
        "\n",
        "  for X, y in test_ds:\n",
        "    pred = vit(X)\n",
        "    total_loss = total_loss + loss(pred, y)\n",
        "    total_accuracy = total_accuracy + accuracy(pred, y)\n",
        "  \n",
        "  avg_loss = total_loss / DATASET_SIZE\n",
        "  avg_accuracy = total_accuracy / DATASET_SIZE\n",
        "  return avg_loss, avg_accuracy\n"
      ]
    },
    {
      "cell_type": "code",
      "execution_count": null,
      "metadata": {
        "id": "k_BNqKHLEuO6"
      },
      "outputs": [],
      "source": [
        "loss, accuracy = evaluate_vit(vit, test_ds)"
      ]
    },
    {
      "cell_type": "code",
      "execution_count": null,
      "metadata": {
        "id": "Czb3vWepG_2x"
      },
      "outputs": [],
      "source": []
    }
  ],
  "metadata": {
    "colab": {
      "provenance": []
    },
    "kernelspec": {
      "display_name": "Python 3",
      "name": "python3"
    },
    "language_info": {
      "name": "python"
    }
  },
  "nbformat": 4,
  "nbformat_minor": 0
}
